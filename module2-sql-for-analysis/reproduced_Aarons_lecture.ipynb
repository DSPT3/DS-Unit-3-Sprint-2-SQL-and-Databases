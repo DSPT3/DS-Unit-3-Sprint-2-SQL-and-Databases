{
  "nbformat": 4,
  "nbformat_minor": 0,
  "metadata": {
    "colab": {
      "name": "DSPT3 U3S2M2 Lecture - Aaron.ipynb",
      "provenance": []
    },
    "kernelspec": {
      "name": "python3",
      "display_name": "Python 3"
    }
  },
  "cells": [
    {
      "cell_type": "code",
      "metadata": {
        "id": "2Uvqd_0RYvzG",
        "colab_type": "code",
        "outputId": "635c39bd-15e3-41a6-9f65-4d10bf014857",
        "colab": {
          "base_uri": "https://localhost:8080/",
          "height": 34
        }
      },
      "source": [
        "!pip install psycopg2-binary"
      ],
      "execution_count": 0,
      "outputs": [
        {
          "output_type": "stream",
          "text": [
            "Requirement already satisfied: psycopg2-binary in /usr/local/lib/python3.6/dist-packages (2.8.4)\n"
          ],
          "name": "stdout"
        }
      ]
    },
    {
      "cell_type": "code",
      "metadata": {
        "id": "mE-HqyYcpLwW",
        "colab_type": "code",
        "colab": {}
      },
      "source": [
        "import psycopg2"
      ],
      "execution_count": 0,
      "outputs": []
    },
    {
      "cell_type": "code",
      "metadata": {
        "id": "T3PGyAxYpQrf",
        "colab_type": "code",
        "colab": {}
      },
      "source": [
        "dir(psycopg2)"
      ],
      "execution_count": 0,
      "outputs": []
    },
    {
      "cell_type": "code",
      "metadata": {
        "id": "XPFFHPv4pdQD",
        "colab_type": "code",
        "colab": {}
      },
      "source": [
        "'''psycopg2.connect looks like it may be interesting! \n",
        "  (Similar to how sqlite3 module worked)'''\n",
        "help(psycopg2.connect)"
      ],
      "execution_count": 0,
      "outputs": []
    },
    {
      "cell_type": "code",
      "metadata": {
        "id": "rrh2x1l-qqKc",
        "colab_type": "code",
        "colab": {}
      },
      "source": [
        "dbname = 'gqblsofi'\n",
        "user = 'gqblsofi'\n",
        "password = '1234'\n",
        "host = 'rajje.db.elephantsql.com'"
      ],
      "execution_count": 0,
      "outputs": []
    },
    {
      "cell_type": "code",
      "metadata": {
        "id": "KABiE9JHuSru",
        "colab_type": "code",
        "colab": {}
      },
      "source": [
        "pg_conn = psycopg2.connect(dbname=dbname, user=user, password=password, host=host)"
      ],
      "execution_count": 0,
      "outputs": []
    },
    {
      "cell_type": "code",
      "metadata": {
        "id": "x9AK--vVu_Ke",
        "colab_type": "code",
        "outputId": "45d8b3f2-2f18-4dd8-9dca-f2aca2b6ffe7",
        "colab": {
          "base_uri": "https://localhost:8080/",
          "height": 34
        }
      },
      "source": [
        "pg_conn"
      ],
      "execution_count": 0,
      "outputs": [
        {
          "output_type": "execute_result",
          "data": {
            "text/plain": [
              "<connection object at 0x7f0f1d3a2c78; dsn: 'user=gqblsofi password=xxx dbname=gqblsofi host=rajje.db.elephantsql.com', closed: 0>"
            ]
          },
          "metadata": {
            "tags": []
          },
          "execution_count": 21
        }
      ]
    },
    {
      "cell_type": "code",
      "metadata": {
        "id": "A7x9d3BZvFEB",
        "colab_type": "code",
        "colab": {}
      },
      "source": [
        "dir(pg_conn)"
      ],
      "execution_count": 0,
      "outputs": []
    },
    {
      "cell_type": "code",
      "metadata": {
        "id": "Hm2kPwrQxgOn",
        "colab_type": "code",
        "colab": {}
      },
      "source": [
        "pg_curs = pg_conn.cursor()"
      ],
      "execution_count": 0,
      "outputs": []
    },
    {
      "cell_type": "code",
      "metadata": {
        "id": "wkraWWnZyO42",
        "colab_type": "code",
        "outputId": "97ac6e77-75a7-4470-d791-efbc0c2ee342",
        "colab": {
          "base_uri": "https://localhost:8080/",
          "height": 102
        }
      },
      "source": [
        "help(pg_curs.execute)"
      ],
      "execution_count": 0,
      "outputs": [
        {
          "output_type": "stream",
          "text": [
            "Help on built-in function execute:\n",
            "\n",
            "execute(...) method of psycopg2.extensions.cursor instance\n",
            "    execute(query, vars=None) -- Execute query with bound vars.\n",
            "\n"
          ],
          "name": "stdout"
        }
      ]
    },
    {
      "cell_type": "code",
      "metadata": {
        "id": "WngOMTbg3fXy",
        "colab_type": "code",
        "colab": {}
      },
      "source": [
        "create_table_statement = \"\"\"\n",
        "CREATE TABLE test_table (\n",
        "  id        SERIAL PRIMARY KEY,\n",
        "  name  varchar(40) NOT NULL,\n",
        "  data    JSONB\n",
        ");\n",
        "\"\"\"\n",
        "\n",
        "pg_curs.execute(create_table_statement)\n",
        "pg_conn.commit()"
      ],
      "execution_count": 0,
      "outputs": []
    },
    {
      "cell_type": "code",
      "metadata": {
        "id": "CqzPgoMz3iRi",
        "colab_type": "code",
        "colab": {}
      },
      "source": [
        "insert_statement = \"\"\"\n",
        "INSERT INTO test_table (name, data) VALUES\n",
        "(\n",
        "  'A row name',\n",
        "  null\n",
        "),\n",
        "(\n",
        "  'Another row, with JSON',\n",
        "  '{ \"a\": 1, \"b\": [\"dog\", \"cat\", 42], \"c\": true }'::JSONB\n",
        ");\n",
        "\"\"\"\n",
        "\n",
        "pg_curs.execute(insert_statement)\n",
        "pg_conn.commit()"
      ],
      "execution_count": 0,
      "outputs": []
    },
    {
      "cell_type": "code",
      "metadata": {
        "id": "KvF7eH-h4ibf",
        "colab_type": "code",
        "outputId": "7eb69038-fba5-415b-9ac5-8df182c0546c",
        "colab": {
          "base_uri": "https://localhost:8080/",
          "height": 51
        }
      },
      "source": [
        "query = \"SELECT * FROM test_table;\"\n",
        "pg_curs.execute(query)\n",
        "pg_curs.fetchall()"
      ],
      "execution_count": 0,
      "outputs": [
        {
          "output_type": "execute_result",
          "data": {
            "text/plain": [
              "[(1, 'A row name', None),\n",
              " (2, 'Another row, with JSON', {'a': 1, 'b': ['dog', 'cat', 42], 'c': True})]"
            ]
          },
          "metadata": {
            "tags": []
          },
          "execution_count": 11
        }
      ]
    },
    {
      "cell_type": "markdown",
      "metadata": {
        "id": "EX0upI9M7tOS",
        "colab_type": "text"
      },
      "source": [
        "# ETL - RPG data from SQLite to PostgreSQL\n",
        "\n",
        "We'd like to get the RPG data out of SQLite and insert it into PostgreSQL.\n",
        "\n",
        "Aka - we're making a data pipeline! Aka - an ETL (Extract Transform Load). Our first \"cloud\" ETL!"
      ]
    },
    {
      "cell_type": "code",
      "metadata": {
        "id": "64TH-z7S70we",
        "colab_type": "code",
        "outputId": "33d064ed-36e4-45db-8f3c-8e7bc0be00c8",
        "colab": {
          "base_uri": "https://localhost:8080/",
          "height": 377
        }
      },
      "source": [
        "!wget https://github.com/KryssyCo/DS-Unit-3-Sprint-2-SQL-and-Databases/blob/master/module1-introduction-to-sql/rpg_db.sqlite3?raw=true"
      ],
      "execution_count": 0,
      "outputs": [
        {
          "output_type": "stream",
          "text": [
            "--2020-02-04 00:46:52--  https://github.com/KryssyCo/DS-Unit-3-Sprint-2-SQL-and-Databases/blob/master/module1-introduction-to-sql/rpg_db.sqlite3?raw=true\n",
            "Resolving github.com (github.com)... 192.30.253.112\n",
            "Connecting to github.com (github.com)|192.30.253.112|:443... connected.\n",
            "HTTP request sent, awaiting response... 302 Found\n",
            "Location: https://github.com/KryssyCo/DS-Unit-3-Sprint-2-SQL-and-Databases/raw/master/module1-introduction-to-sql/rpg_db.sqlite3 [following]\n",
            "--2020-02-04 00:46:52--  https://github.com/KryssyCo/DS-Unit-3-Sprint-2-SQL-and-Databases/raw/master/module1-introduction-to-sql/rpg_db.sqlite3\n",
            "Reusing existing connection to github.com:443.\n",
            "HTTP request sent, awaiting response... 302 Found\n",
            "Location: https://raw.githubusercontent.com/KryssyCo/DS-Unit-3-Sprint-2-SQL-and-Databases/master/module1-introduction-to-sql/rpg_db.sqlite3 [following]\n",
            "--2020-02-04 00:46:52--  https://raw.githubusercontent.com/KryssyCo/DS-Unit-3-Sprint-2-SQL-and-Databases/master/module1-introduction-to-sql/rpg_db.sqlite3\n",
            "Resolving raw.githubusercontent.com (raw.githubusercontent.com)... 151.101.0.133, 151.101.64.133, 151.101.128.133, ...\n",
            "Connecting to raw.githubusercontent.com (raw.githubusercontent.com)|151.101.0.133|:443... connected.\n",
            "HTTP request sent, awaiting response... 200 OK\n",
            "Length: 253952 (248K) [application/octet-stream]\n",
            "Saving to: ‘rpg_db.sqlite3?raw=true’\n",
            "\n",
            "rpg_db.sqlite3?raw= 100%[===================>] 248.00K  --.-KB/s    in 0.05s   \n",
            "\n",
            "2020-02-04 00:46:53 (4.71 MB/s) - ‘rpg_db.sqlite3?raw=true’ saved [253952/253952]\n",
            "\n"
          ],
          "name": "stdout"
        }
      ]
    },
    {
      "cell_type": "code",
      "metadata": {
        "id": "rC5XXw2WdMSJ",
        "colab_type": "code",
        "colab": {}
      },
      "source": [
        "!mv 'rpg_db.sqlite3?raw=true' rpg_db.sqlite3"
      ],
      "execution_count": 0,
      "outputs": []
    },
    {
      "cell_type": "code",
      "metadata": {
        "id": "IsA_MkkZbBFj",
        "colab_type": "code",
        "outputId": "3718f587-4e79-453b-e418-9d121d0758a1",
        "colab": {
          "base_uri": "https://localhost:8080/",
          "height": 34
        }
      },
      "source": [
        "!ls"
      ],
      "execution_count": 0,
      "outputs": [
        {
          "output_type": "stream",
          "text": [
            "rpg_db.sqlite3\tsample_data\n"
          ],
          "name": "stdout"
        }
      ]
    },
    {
      "cell_type": "code",
      "metadata": {
        "id": "NvZfTmE6bE9h",
        "colab_type": "code",
        "colab": {}
      },
      "source": [
        "import sqlite3\n",
        "sl_conn = sqlite3.connect('rpg_db.sqlite3')\n",
        "sl_curs =sl_conn.cursor()"
      ],
      "execution_count": 0,
      "outputs": []
    },
    {
      "cell_type": "code",
      "metadata": {
        "id": "5ED91a5scO0g",
        "colab_type": "code",
        "outputId": "2150348a-1318-407c-f39f-12e420c04370",
        "colab": {
          "base_uri": "https://localhost:8080/",
          "height": 34
        }
      },
      "source": [
        "# We care about the charactercreator_character table\n",
        "row_count = 'SELECT COUNT(*) FROM charactercreator_character'\n",
        "sl_curs.execute(row_count).fetchall()"
      ],
      "execution_count": 0,
      "outputs": [
        {
          "output_type": "execute_result",
          "data": {
            "text/plain": [
              "[(302,)]"
            ]
          },
          "metadata": {
            "tags": []
          },
          "execution_count": 5
        }
      ]
    },
    {
      "cell_type": "code",
      "metadata": {
        "id": "v1ce6juhdgPN",
        "colab_type": "code",
        "colab": {}
      },
      "source": [
        "# Our goal - copy the characters table from SQLite to PostgreSQL using Python\n",
        "# Step 1 - E = Extract: Get the characters from the table\n",
        "get_characters = 'SELECT * FROM charactercreator_character'\n",
        "characters = sl_curs.execute(get_characters).fetchall()"
      ],
      "execution_count": 0,
      "outputs": []
    },
    {
      "cell_type": "code",
      "metadata": {
        "id": "lu31Y_rNeQDf",
        "colab_type": "code",
        "outputId": "817674bb-2ebf-4fc0-9d8b-dca4bd753cb1",
        "colab": {
          "base_uri": "https://localhost:8080/",
          "height": 102
        }
      },
      "source": [
        "characters[:5]"
      ],
      "execution_count": 0,
      "outputs": [
        {
          "output_type": "execute_result",
          "data": {
            "text/plain": [
              "[(1, 'Aliquid iste optio reiciendi', 0, 0, 10, 1, 1, 1, 1),\n",
              " (2, 'Optio dolorem ex a', 0, 0, 10, 1, 1, 1, 1),\n",
              " (3, 'Minus c', 0, 0, 10, 1, 1, 1, 1),\n",
              " (4, 'Sit ut repr', 0, 0, 10, 1, 1, 1, 1),\n",
              " (5, 'At id recusandae expl', 0, 0, 10, 1, 1, 1, 1)]"
            ]
          },
          "metadata": {
            "tags": []
          },
          "execution_count": 7
        }
      ]
    },
    {
      "cell_type": "code",
      "metadata": {
        "id": "fP8m7Fk9ehbL",
        "colab_type": "code",
        "outputId": "e7d54b8c-7aae-420c-9b1d-7e6ab0ab3426",
        "colab": {
          "base_uri": "https://localhost:8080/",
          "height": 34
        }
      },
      "source": [
        "len(characters)"
      ],
      "execution_count": 0,
      "outputs": [
        {
          "output_type": "execute_result",
          "data": {
            "text/plain": [
              "302"
            ]
          },
          "metadata": {
            "tags": []
          },
          "execution_count": 8
        }
      ]
    },
    {
      "cell_type": "code",
      "metadata": {
        "id": "Tx8OZFLAehaU",
        "colab_type": "code",
        "outputId": "9f92a3b6-08f3-41e3-fc28-2845269eb314",
        "colab": {
          "base_uri": "https://localhost:8080/",
          "height": 170
        }
      },
      "source": [
        "# Step 2 - Transform\n",
        "# In this case, we don't actually want/need to change much\n",
        "# Because we want to keep all the data\n",
        "# And we're going from SQL to SQL\n",
        "\n",
        "# But what do we need to be able to load into PostgreSQL\n",
        "# We need to make a new table with the apprropriate schema\n",
        "\n",
        "# What was the old schema? We can get at this with SQLitte internals\n",
        "sl_curs.execute('PRAGMA table_info(charactercreator_character);').fetchall()"
      ],
      "execution_count": 0,
      "outputs": [
        {
          "output_type": "execute_result",
          "data": {
            "text/plain": [
              "[(0, 'character_id', 'integer', 1, None, 1),\n",
              " (1, 'name', 'varchar(30)', 1, None, 0),\n",
              " (2, 'level', 'integer', 1, None, 0),\n",
              " (3, 'exp', 'integer', 1, None, 0),\n",
              " (4, 'hp', 'integer', 1, None, 0),\n",
              " (5, 'strength', 'integer', 1, None, 0),\n",
              " (6, 'intelligence', 'integer', 1, None, 0),\n",
              " (7, 'dexterity', 'integer', 1, None, 0),\n",
              " (8, 'wisdom', 'integer', 1, None, 0)]"
            ]
          },
          "metadata": {
            "tags": []
          },
          "execution_count": 9
        }
      ]
    },
    {
      "cell_type": "code",
      "metadata": {
        "id": "2aEX2ROdltcI",
        "colab_type": "code",
        "colab": {}
      },
      "source": [
        "create_character_table = \"\"\"\n",
        "CREATE TABLE charactercreator_character (\n",
        "  character_id SERIAL PRIMARY KEY,\n",
        "  name VARCHAR(30),\n",
        "  level INT,\n",
        "  exp INT,\n",
        "  hp INT,\n",
        "  strength INT,\n",
        "  intelligence INT,\n",
        "  dexterity INT,\n",
        "  wisdom INT\n",
        ");\n",
        "\"\"\""
      ],
      "execution_count": 0,
      "outputs": []
    },
    {
      "cell_type": "code",
      "metadata": {
        "id": "3Q7XwijvmLJW",
        "colab_type": "code",
        "colab": {}
      },
      "source": [
        "pg_curs.execute(create_character_table)\n",
        "pg_conn.commit()"
      ],
      "execution_count": 0,
      "outputs": []
    },
    {
      "cell_type": "code",
      "metadata": {
        "id": "pIY_LId5mTtN",
        "colab_type": "code",
        "outputId": "716235fa-855a-4632-c9c5-4687a800f1fb",
        "colab": {
          "base_uri": "https://localhost:8080/",
          "height": 170
        }
      },
      "source": [
        "# We can query tables if we want to check\n",
        "# This is a clever optional thing, showing postgresql internals\n",
        "show_tables = \"\"\"\n",
        "SELECT\n",
        "   *\n",
        "FROM\n",
        "   pg_catalog.pg_tables\n",
        "WHERE\n",
        "   schemaname != 'pg_catalog'\n",
        "AND schemaname != 'information_schema';\n",
        "\"\"\"\n",
        "pg_curs.execute(show_tables)\n",
        "pg_curs.fetchall()"
      ],
      "execution_count": 0,
      "outputs": [
        {
          "output_type": "execute_result",
          "data": {
            "text/plain": [
              "[('public', 'test_table', 'gqblsofi', None, True, False, False, False),\n",
              " ('public',\n",
              "  'charactercreator_character',\n",
              "  'gqblsofi',\n",
              "  None,\n",
              "  True,\n",
              "  False,\n",
              "  False,\n",
              "  False)]"
            ]
          },
          "metadata": {
            "tags": []
          },
          "execution_count": 23
        }
      ]
    },
    {
      "cell_type": "code",
      "metadata": {
        "id": "7dRFMGIPnawd",
        "colab_type": "code",
        "outputId": "c4a0c68a-687a-4f54-870a-8a6907f2e344",
        "colab": {
          "base_uri": "https://localhost:8080/",
          "height": 34
        }
      },
      "source": [
        "characters[0]"
      ],
      "execution_count": 0,
      "outputs": [
        {
          "output_type": "execute_result",
          "data": {
            "text/plain": [
              "(1, 'Aliquid iste optio reiciendi', 0, 0, 10, 1, 1, 1, 1)"
            ]
          },
          "metadata": {
            "tags": []
          },
          "execution_count": 24
        }
      ]
    },
    {
      "cell_type": "code",
      "metadata": {
        "id": "IBG7O4gangHo",
        "colab_type": "code",
        "outputId": "f8598a60-3428-4511-fa5c-431b235f53ef",
        "colab": {
          "base_uri": "https://localhost:8080/",
          "height": 85
        }
      },
      "source": [
        "example_insert = \"\"\"\n",
        "INSERT INTO charactercreator_character\n",
        "(name, level, exp, hp, strength, intelligence, dexterity, wisdom)\n",
        "VALUES \"\"\" +str(characters[0][1:]) + \";\"\n",
        "\n",
        "print(example_insert)"
      ],
      "execution_count": 0,
      "outputs": [
        {
          "output_type": "stream",
          "text": [
            "\n",
            "INSERT INTO charactercreator_character\n",
            "(name, level, exp, hp, strength, intelligence, dexterity, wisdom)\n",
            "VALUES ('Aliquid iste optio reiciendi', 0, 0, 10, 1, 1, 1, 1);\n"
          ],
          "name": "stdout"
        }
      ]
    },
    {
      "cell_type": "code",
      "metadata": {
        "id": "Db9Vkb20oVa8",
        "colab_type": "code",
        "colab": {}
      },
      "source": [
        "# How do we do this for all characters? Loops!\n",
        "for character in characters:\n",
        "  insert_character = \"\"\"\n",
        "    INSERT INTO charactercreator_character\n",
        "    (name, level, exp, hp, strength, intelligence, dexterity, wisdom)\n",
        "    VALUES \"\"\" + str(character[1:]) + \";\"\n",
        "  pg_curs.execute(insert_character)\n",
        "# pg_conn.commit()\n"
      ],
      "execution_count": 0,
      "outputs": []
    },
    {
      "cell_type": "code",
      "metadata": {
        "id": "FFOf1pXKqYfu",
        "colab_type": "code",
        "outputId": "cb5d3888-8582-414b-ebef-f7132dbaad1a",
        "colab": {
          "base_uri": "https://localhost:8080/",
          "height": 1000
        }
      },
      "source": [
        "pg_curs.execute('SELECT * FROM charactercreator_character')\n",
        "pg_curs.fetchall()"
      ],
      "execution_count": 0,
      "outputs": [
        {
          "output_type": "execute_result",
          "data": {
            "text/plain": [
              "[(1, 'Aliquid iste optio reiciendi', 0, 0, 10, 1, 1, 1, 1),\n",
              " (2, 'Optio dolorem ex a', 0, 0, 10, 1, 1, 1, 1),\n",
              " (3, 'Minus c', 0, 0, 10, 1, 1, 1, 1),\n",
              " (4, 'Sit ut repr', 0, 0, 10, 1, 1, 1, 1),\n",
              " (5, 'At id recusandae expl', 0, 0, 10, 1, 1, 1, 1),\n",
              " (6, 'Non nobis et of', 0, 0, 10, 1, 1, 1, 1),\n",
              " (7, 'Perferendis', 0, 0, 10, 1, 1, 1, 1),\n",
              " (8, 'Accusantium amet quidem eve', 0, 0, 10, 1, 1, 1, 1),\n",
              " (9, 'Sed nostrum inventore error m', 0, 0, 10, 1, 1, 1, 1),\n",
              " (10, 'Harum repellendus omnis od', 0, 0, 10, 1, 1, 1, 1),\n",
              " (11, 'Itaque ut commodi,', 0, 0, 10, 1, 1, 1, 1),\n",
              " (12, 'Molestiae quis', 0, 0, 10, 1, 1, 1, 1),\n",
              " (13, 'Ali', 0, 0, 10, 1, 1, 1, 1),\n",
              " (14, 'Tempora quod optio possimus il', 0, 0, 10, 1, 1, 1, 1),\n",
              " (15, 'Sed itaque beatae pari', 0, 0, 10, 1, 1, 1, 1),\n",
              " (16, 'Quam dolor', 0, 0, 10, 1, 1, 1, 1),\n",
              " (17, 'Molestias expedita', 0, 0, 10, 1, 1, 1, 1),\n",
              " (18, 'Lauda', 0, 0, 10, 1, 1, 1, 1),\n",
              " (19, 'Incidunt sint perferen', 0, 0, 10, 1, 1, 1, 1),\n",
              " (20, 'Laboriosa', 0, 0, 10, 1, 1, 1, 1),\n",
              " (21, 'Dolore esse nesciunt fugit com', 0, 0, 10, 1, 1, 1, 1),\n",
              " (22, 'Dolorum nam reic', 0, 0, 10, 1, 1, 1, 1),\n",
              " (23, 'Repellat ad numquam volu', 0, 0, 10, 1, 1, 1, 1),\n",
              " (24, 'Facere enim velit eligend', 0, 0, 10, 1, 1, 1, 1),\n",
              " (25, 'Sed ratione quis rep', 0, 0, 10, 1, 1, 1, 1),\n",
              " (26, 'Doloribus neque', 0, 0, 10, 1, 1, 1, 1),\n",
              " (27, 'Ab voluptas se', 0, 0, 10, 1, 1, 1, 1),\n",
              " (28, 'Molestias m', 0, 0, 10, 1, 1, 1, 1),\n",
              " (29, 'In pariatur corpori', 0, 0, 10, 1, 1, 1, 1),\n",
              " (30, 'Possimus ad dignissimos vel, a', 0, 0, 10, 1, 1, 1, 1),\n",
              " (31, 'At minus accusa', 0, 0, 10, 1, 1, 1, 1),\n",
              " (32, 'Ad necess', 0, 0, 10, 1, 1, 1, 1),\n",
              " (33, 'Expedita c', 0, 0, 10, 1, 1, 1, 1),\n",
              " (34, 'Voluptates sunt voluptas volu', 0, 0, 10, 1, 1, 1, 1),\n",
              " (35, 'Autem mollitia fuga lauda', 0, 0, 10, 1, 1, 1, 1),\n",
              " (36, 'Sint quibusdam ob', 0, 0, 10, 1, 1, 1, 1),\n",
              " (37, 'Rerum et o', 0, 0, 10, 1, 1, 1, 1),\n",
              " (38, 'Doloribus dolore r', 0, 0, 10, 1, 1, 1, 1),\n",
              " (39, 'Eaque su', 0, 0, 10, 1, 1, 1, 1),\n",
              " (40, 'Vel molestias numqua', 0, 0, 10, 1, 1, 1, 1),\n",
              " (41, 'Iste assumenda repellat q', 0, 0, 10, 1, 1, 1, 1),\n",
              " (42, 'Animi labo', 0, 0, 10, 1, 1, 1, 1),\n",
              " (43, 'Eum culpa eaque ea omn', 0, 0, 10, 1, 1, 1, 1),\n",
              " (44, 'Harum provident vel quam', 0, 0, 10, 1, 1, 1, 1),\n",
              " (45, 'Aspe', 0, 0, 10, 1, 1, 1, 1),\n",
              " (46, 'Nisi nequ', 0, 0, 10, 1, 1, 1, 1),\n",
              " (47, 'Quod tempora', 0, 0, 10, 1, 1, 1, 1),\n",
              " (48, 'Porro aliq', 0, 0, 10, 1, 1, 1, 1),\n",
              " (49, 'Quas', 0, 0, 10, 1, 1, 1, 1),\n",
              " (50, 'Magnam eligendi quia animi', 0, 0, 10, 1, 1, 1, 1),\n",
              " (51, 'Officiis se', 0, 0, 10, 1, 1, 1, 1),\n",
              " (52, 'Id assumend', 0, 0, 10, 1, 1, 1, 1),\n",
              " (53, 'Voluptatibus fu', 0, 0, 10, 1, 1, 1, 1),\n",
              " (54, 'Odit rat', 0, 0, 10, 1, 1, 1, 1),\n",
              " (55, 'Debit', 0, 0, 10, 1, 1, 1, 1),\n",
              " (56, 'Cum aut quas repudia', 0, 0, 10, 1, 1, 1, 1),\n",
              " (57, 'Deleniti qui quae quidem', 0, 0, 10, 1, 1, 1, 1),\n",
              " (58, 'Adipisci voluptas', 0, 0, 10, 1, 1, 1, 1),\n",
              " (59, 'Debitis sit ratione eos nam', 0, 0, 10, 1, 1, 1, 1),\n",
              " (60, 'Esse illo molestias archi', 0, 0, 10, 1, 1, 1, 1),\n",
              " (61, 'Sunt at itaque voluptatum d', 0, 0, 10, 1, 1, 1, 1),\n",
              " (62, 'Est totam', 0, 0, 10, 1, 1, 1, 1),\n",
              " (63, 'Reprehenderit commodi eius', 0, 0, 10, 1, 1, 1, 1),\n",
              " (64, 'Debit', 0, 0, 10, 1, 1, 1, 1),\n",
              " (65, 'Soluta dol', 0, 0, 10, 1, 1, 1, 1),\n",
              " (66, 'Vel nesc', 0, 0, 10, 1, 1, 1, 1),\n",
              " (67, 'Ratione quia ali', 0, 0, 10, 1, 1, 1, 1),\n",
              " (68, 'Rerum recusandae minima', 0, 0, 10, 1, 1, 1, 1),\n",
              " (69, 'Totam natus eius fugiat volu', 0, 0, 10, 1, 1, 1, 1),\n",
              " (70, 'Perferendis commodi null', 0, 0, 10, 1, 1, 1, 1),\n",
              " (71, 'Laudantiu', 0, 0, 10, 1, 1, 1, 1),\n",
              " (72, 'Voluptat', 0, 0, 10, 1, 1, 1, 1),\n",
              " (73, 'Incidunt nesciun', 0, 0, 10, 1, 1, 1, 1),\n",
              " (74, 'Illum amet vero', 0, 0, 10, 1, 1, 1, 1),\n",
              " (75, 'Suscipit exercitationem re', 0, 0, 10, 1, 1, 1, 1),\n",
              " (76, 'Quas enim error maxime nisi m', 0, 0, 10, 1, 1, 1, 1),\n",
              " (77, 'Labore qu', 0, 0, 10, 1, 1, 1, 1),\n",
              " (78, 'Repudiandae deleniti unde', 0, 0, 10, 1, 1, 1, 1),\n",
              " (79, 'Ut do', 0, 0, 10, 1, 1, 1, 1),\n",
              " (80, 'Quaerat esse labore q', 0, 0, 10, 1, 1, 1, 1),\n",
              " (81, 'Quidem aliq', 0, 0, 10, 1, 1, 1, 1),\n",
              " (82, 'Aperiam vitae eos dolor sed', 0, 0, 10, 1, 1, 1, 1),\n",
              " (83, 'Minus nobis porro', 0, 0, 10, 1, 1, 1, 1),\n",
              " (84, 'In similique', 0, 0, 10, 1, 1, 1, 1),\n",
              " (85, 'Culpa repellat unde', 0, 0, 10, 1, 1, 1, 1),\n",
              " (86, 'Architecto i', 0, 0, 10, 1, 1, 1, 1),\n",
              " (87, 'A sed pariatur qua', 0, 0, 10, 1, 1, 1, 1),\n",
              " (88, 'Tempore assumenda aperiam', 0, 0, 10, 1, 1, 1, 1),\n",
              " (89, 'Sed ullam tempora iusto co', 0, 0, 10, 1, 1, 1, 1),\n",
              " (90, 'Ipsa', 0, 0, 10, 1, 1, 1, 1),\n",
              " (91, 'Fugiat incidun', 0, 0, 10, 1, 1, 1, 1),\n",
              " (92, 'Molestiae of', 0, 0, 10, 1, 1, 1, 1),\n",
              " (93, 'Quae quisquam cons', 0, 0, 10, 1, 1, 1, 1),\n",
              " (94, 'Repellendus ea non facil', 0, 0, 10, 1, 1, 1, 1),\n",
              " (95, 'Quod non quibu', 0, 0, 10, 1, 1, 1, 1),\n",
              " (96, 'Numquam velit distinctio', 0, 0, 10, 1, 1, 1, 1),\n",
              " (97, 'Necessitatibus nihil ex debi', 0, 0, 10, 1, 1, 1, 1),\n",
              " (98, 'Velit tempore nemo, na', 0, 0, 10, 1, 1, 1, 1),\n",
              " (99, 'Nesciunt v', 0, 0, 10, 1, 1, 1, 1),\n",
              " (100, 'Dicta enim debitis accusantiu', 0, 0, 10, 1, 1, 1, 1),\n",
              " (101, 'Vitae a', 0, 0, 10, 1, 1, 1, 1),\n",
              " (102, 'Praesentium voluptas u', 0, 0, 10, 1, 1, 1, 1),\n",
              " (103, 'Unde ullam mollitia? Nu', 0, 0, 10, 1, 1, 1, 1),\n",
              " (104, 'Neque molestias qu', 0, 0, 10, 1, 1, 1, 1),\n",
              " (105, 'Officiis es', 0, 0, 10, 1, 1, 1, 1),\n",
              " (106, 'Beatae mi', 0, 0, 10, 1, 1, 1, 1),\n",
              " (107, 'Mollitia nam corporis temp', 0, 0, 10, 1, 1, 1, 1),\n",
              " (108, 'Repudiandae repellat i', 0, 0, 10, 1, 1, 1, 1),\n",
              " (109, 'Laboriosam', 0, 0, 10, 1, 1, 1, 1),\n",
              " (110, 'Nam minus amet', 0, 0, 10, 1, 1, 1, 1),\n",
              " (111, 'Harum quae volup', 0, 0, 10, 1, 1, 1, 1),\n",
              " (112, 'Impedit facere ulla', 0, 0, 10, 1, 1, 1, 1),\n",
              " (113, 'Enim', 0, 0, 10, 1, 1, 1, 1),\n",
              " (114, 'Dolore magni', 0, 0, 10, 1, 1, 1, 1),\n",
              " (115, 'Eaque at corpori', 0, 0, 10, 1, 1, 1, 1),\n",
              " (116, 'Fug', 0, 0, 10, 1, 1, 1, 1),\n",
              " (117, 'Dolorum laudanti', 0, 0, 10, 1, 1, 1, 1),\n",
              " (118, 'Perferendis nat', 0, 0, 10, 1, 1, 1, 1),\n",
              " (119, 'Cupidi', 0, 0, 10, 1, 1, 1, 1),\n",
              " (120, 'Commodi eius dicta digniss', 0, 0, 10, 1, 1, 1, 1),\n",
              " (121, 'Debitis eu', 0, 0, 10, 1, 1, 1, 1),\n",
              " (122, 'Nihil repella', 0, 0, 10, 1, 1, 1, 1),\n",
              " (123, 'Rem quasi minima hic sed anim', 0, 0, 10, 1, 1, 1, 1),\n",
              " (124, 'Sed ali', 0, 0, 10, 1, 1, 1, 1),\n",
              " (125, 'Earum vol', 0, 0, 10, 1, 1, 1, 1),\n",
              " (126, 'Inventore tempore com', 0, 0, 10, 1, 1, 1, 1),\n",
              " (127, 'Repell', 0, 0, 10, 1, 1, 1, 1),\n",
              " (128, 'Consequatur quis recusandae qu', 0, 0, 10, 1, 1, 1, 1),\n",
              " (129, 'Dolores ea velit mi', 0, 0, 10, 1, 1, 1, 1),\n",
              " (130, 'Atque blanditiis a aperiam', 0, 0, 10, 1, 1, 1, 1),\n",
              " (131, 'Reprehenderit sequi iu', 0, 0, 10, 1, 1, 1, 1),\n",
              " (132, 'Natus architecto eos, hic blan', 0, 0, 10, 1, 1, 1, 1),\n",
              " (133, 'Ipsa illo quas', 0, 0, 10, 1, 1, 1, 1),\n",
              " (134, 'Voluptas ali', 0, 0, 10, 1, 1, 1, 1),\n",
              " (135, 'Voluptates obcaecati quod e', 0, 0, 10, 1, 1, 1, 1),\n",
              " (136, 'Dolor adipisci a voluptate', 0, 0, 10, 1, 1, 1, 1),\n",
              " (137, 'Repellendus natus quae, n', 0, 0, 10, 1, 1, 1, 1),\n",
              " (138, 'Laudantium earum nam in dol', 0, 0, 10, 1, 1, 1, 1),\n",
              " (139, 'Molestias face', 0, 0, 10, 1, 1, 1, 1),\n",
              " (140, 'Maiores suscipit exc', 0, 0, 10, 1, 1, 1, 1),\n",
              " (141, 'Illum dolore perferen', 0, 0, 10, 1, 1, 1, 1),\n",
              " (142, 'Explicabo recusandae ma', 0, 0, 10, 1, 1, 1, 1),\n",
              " (143, 'Odio obcaecati hic nostrum n', 0, 0, 10, 1, 1, 1, 1),\n",
              " (144, 'Voluptate ali', 0, 0, 10, 1, 1, 1, 1),\n",
              " (145, 'Repudiandae vitae sapiente mol', 0, 0, 10, 1, 1, 1, 1),\n",
              " (146, 'Ipsam cumque', 0, 0, 10, 1, 1, 1, 1),\n",
              " (147, 'Fugiat quos alias eos dese', 0, 0, 10, 1, 1, 1, 1),\n",
              " (148, 'Eaque impe', 0, 0, 10, 1, 1, 1, 1),\n",
              " (149, 'Elige', 0, 0, 10, 1, 1, 1, 1),\n",
              " (150, 'Adip', 0, 0, 10, 1, 1, 1, 1),\n",
              " (151, 'Fuga nemo vel mo', 0, 0, 10, 1, 1, 1, 1),\n",
              " (152, 'Libero cumque impedit eveniet', 0, 0, 10, 1, 1, 1, 1),\n",
              " (153, 'Odio soluta', 0, 0, 10, 1, 1, 1, 1),\n",
              " (154, 'Vero nostrum duc', 0, 0, 10, 1, 1, 1, 1),\n",
              " (155, 'Repellend', 0, 0, 10, 1, 1, 1, 1),\n",
              " (156, 'Quod', 0, 0, 10, 1, 1, 1, 1),\n",
              " (157, 'Suscipit reiciend', 0, 0, 10, 1, 1, 1, 1),\n",
              " (158, 'Voluptat', 0, 0, 10, 1, 1, 1, 1),\n",
              " (159, 'Porro dolor fuga quam', 0, 0, 10, 1, 1, 1, 1),\n",
              " (160, 'Amet quo fugit aliquam sequi', 0, 0, 10, 1, 1, 1, 1),\n",
              " (161, 'Magni adipisci veritatis sit q', 0, 0, 10, 1, 1, 1, 1),\n",
              " (162, 'Debitis enim cumque cum qu', 0, 0, 10, 1, 1, 1, 1),\n",
              " (163, 'Dolorem eligend', 0, 0, 10, 1, 1, 1, 1),\n",
              " (164, 'Autem lib', 0, 0, 10, 1, 1, 1, 1),\n",
              " (165, 'Saepe assumenda perferendis f', 0, 0, 10, 1, 1, 1, 1),\n",
              " (166, 'Deserunt', 0, 0, 10, 1, 1, 1, 1),\n",
              " (167, 'Provident soluta simil', 0, 0, 10, 1, 1, 1, 1),\n",
              " (168, 'In accu', 0, 0, 10, 1, 1, 1, 1),\n",
              " (169, 'Inve', 0, 0, 10, 1, 1, 1, 1),\n",
              " (170, 'Placeat sapiente', 0, 0, 10, 1, 1, 1, 1),\n",
              " (171, 'Ducimus architecto ullam', 0, 0, 10, 1, 1, 1, 1),\n",
              " (172, 'Voluptate tempora rerum', 0, 0, 10, 1, 1, 1, 1),\n",
              " (173, 'Totam incidunt earum perspicia', 0, 0, 10, 1, 1, 1, 1),\n",
              " (174, 'Optio quas e', 0, 0, 10, 1, 1, 1, 1),\n",
              " (175, 'Ab illum invento', 0, 0, 10, 1, 1, 1, 1),\n",
              " (176, 'Repellat quis natus totam, s', 0, 0, 10, 1, 1, 1, 1),\n",
              " (177, 'Est voluptate accusantium tem', 0, 0, 10, 1, 1, 1, 1),\n",
              " (178, 'Beatae q', 0, 0, 10, 1, 1, 1, 1),\n",
              " (179, 'Velit', 0, 0, 10, 1, 1, 1, 1),\n",
              " (180, 'Minus nequ', 0, 0, 10, 1, 1, 1, 1),\n",
              " (181, 'Autem eos voluptates off', 0, 0, 10, 1, 1, 1, 1),\n",
              " (182, 'Vel fug', 0, 0, 10, 1, 1, 1, 1),\n",
              " (183, 'Architecto repudian', 0, 0, 10, 1, 1, 1, 1),\n",
              " (184, 'Opti', 0, 0, 10, 1, 1, 1, 1),\n",
              " (185, 'Iust', 0, 0, 10, 1, 1, 1, 1),\n",
              " (186, 'Sapiente', 0, 0, 10, 1, 1, 1, 1),\n",
              " (187, 'Officiis repellat corrupti su', 0, 0, 10, 1, 1, 1, 1),\n",
              " (188, 'Dicta et natus e', 0, 0, 10, 1, 1, 1, 1),\n",
              " (189, 'At quos', 0, 0, 10, 1, 1, 1, 1),\n",
              " (190, 'Laborum ven', 0, 0, 10, 1, 1, 1, 1),\n",
              " (191, 'Exceptur', 0, 0, 10, 1, 1, 1, 1),\n",
              " (192, 'Reiciendis assumenda dolo', 0, 0, 10, 1, 1, 1, 1),\n",
              " (193, 'Poss', 0, 0, 10, 1, 1, 1, 1),\n",
              " (194, 'Acc', 0, 0, 10, 1, 1, 1, 1),\n",
              " (195, 'Placeat esse archit', 0, 0, 10, 1, 1, 1, 1),\n",
              " (196, 'Enim repellendus nihil est te', 0, 0, 10, 1, 1, 1, 1),\n",
              " (197, 'Ipsam incidunt t', 0, 0, 10, 1, 1, 1, 1),\n",
              " (198, 'Iure', 0, 0, 10, 1, 1, 1, 1),\n",
              " (199, 'Illo en', 0, 0, 10, 1, 1, 1, 1),\n",
              " (200, 'A rem ex', 0, 0, 10, 1, 1, 1, 1),\n",
              " (201, 'Officiis su', 0, 0, 10, 1, 1, 1, 1),\n",
              " (202, 'Numquam molestias', 0, 0, 10, 1, 1, 1, 1),\n",
              " (203, 'Voluptates unde', 0, 0, 10, 1, 1, 1, 1),\n",
              " (204, 'Quae praesentium vel', 0, 0, 10, 1, 1, 1, 1),\n",
              " (205, 'Quas', 0, 0, 10, 1, 1, 1, 1),\n",
              " (206, 'Dolores aliquid inv', 0, 0, 10, 1, 1, 1, 1),\n",
              " (207, 'Mollitia tempore laborum eaqu', 0, 0, 10, 1, 1, 1, 1),\n",
              " (208, 'Nobis voluptates fugiat quia', 0, 0, 10, 1, 1, 1, 1),\n",
              " (209, 'Similique dolorem dolore maio', 0, 0, 10, 1, 1, 1, 1),\n",
              " (210, 'Sapiente', 0, 0, 10, 1, 1, 1, 1),\n",
              " (211, 'Officia nisi dolore', 0, 0, 10, 1, 1, 1, 1),\n",
              " (212, 'Distinctio', 0, 0, 10, 1, 1, 1, 1),\n",
              " (213, 'Eos quia dignissimos saepe vel', 0, 0, 10, 1, 1, 1, 1),\n",
              " (214, 'Ullam neque sint eligendi', 0, 0, 10, 1, 1, 1, 1),\n",
              " (215, 'Excepturi deleniti ab a', 0, 0, 10, 1, 1, 1, 1),\n",
              " (216, 'Accusa', 0, 0, 10, 1, 1, 1, 1),\n",
              " (217, 'Reiciendis laboriosam di', 0, 0, 10, 1, 1, 1, 1),\n",
              " (218, 'Delectus ex', 0, 0, 10, 1, 1, 1, 1),\n",
              " (219, 'Pari', 0, 0, 10, 1, 1, 1, 1),\n",
              " (220, 'Veritatis velit facilis iste', 0, 0, 10, 1, 1, 1, 1),\n",
              " (221, 'Dol', 0, 0, 10, 1, 1, 1, 1),\n",
              " (222, 'Qui iste pr', 0, 0, 10, 1, 1, 1, 1),\n",
              " (223, 'Deleni', 0, 0, 10, 1, 1, 1, 1),\n",
              " (224, 'Reprehenderit volu', 0, 0, 10, 1, 1, 1, 1),\n",
              " (225, 'Accusantium vitae n', 0, 0, 10, 1, 1, 1, 1),\n",
              " (226, 'Natus consequatur incidun', 0, 0, 10, 1, 1, 1, 1),\n",
              " (227, 'Dignissimos a', 0, 0, 10, 1, 1, 1, 1),\n",
              " (228, 'Vitae modi', 0, 0, 10, 1, 1, 1, 1),\n",
              " (229, 'Accusantium qu', 0, 0, 10, 1, 1, 1, 1),\n",
              " (230, 'Reiciendis dignissimos ratio', 0, 0, 10, 1, 1, 1, 1),\n",
              " (231, 'Expedita provident natus volup', 0, 0, 10, 1, 1, 1, 1),\n",
              " (232, 'Rerum repellat voluptas c', 0, 0, 10, 1, 1, 1, 1),\n",
              " (233, 'Maiores quos incidunt dolor', 0, 0, 10, 1, 1, 1, 1),\n",
              " (234, 'Aper', 0, 0, 10, 1, 1, 1, 1),\n",
              " (235, 'Nulla', 0, 0, 10, 1, 1, 1, 1),\n",
              " (236, 'Laudantium tempora itaque', 0, 0, 10, 1, 1, 1, 1),\n",
              " (237, 'Reprehenderit', 0, 0, 10, 1, 1, 1, 1),\n",
              " (238, 'Aliqu', 0, 0, 10, 1, 1, 1, 1),\n",
              " (239, 'Odio harum nam mole', 0, 0, 10, 1, 1, 1, 1),\n",
              " (240, 'Arc', 0, 0, 10, 1, 1, 1, 1),\n",
              " (241, 'Reprehenderit li', 0, 0, 10, 1, 1, 1, 1),\n",
              " (242, 'Repr', 0, 0, 10, 1, 1, 1, 1),\n",
              " (243, 'Optio m', 0, 0, 10, 1, 1, 1, 1),\n",
              " (244, 'Esse odit amet rep', 0, 0, 10, 1, 1, 1, 1),\n",
              " (245, 'Provident nostrum minima', 0, 0, 10, 1, 1, 1, 1),\n",
              " (246, 'Ex nihil quae facilis a omni', 0, 0, 10, 1, 1, 1, 1),\n",
              " (247, 'Dolorem quaerat sunt', 0, 0, 10, 1, 1, 1, 1),\n",
              " (248, 'Distinctio', 0, 0, 10, 1, 1, 1, 1),\n",
              " (249, 'Repudiandae ip', 0, 0, 10, 1, 1, 1, 1),\n",
              " (250, 'Iste debitis dolorum amet m', 0, 0, 10, 1, 1, 1, 1),\n",
              " (251, 'Non qui vo', 0, 0, 10, 1, 1, 1, 1),\n",
              " (252, 'Dolorem ma', 0, 0, 10, 1, 1, 1, 1),\n",
              " (253, 'Molestias labore tempore ita', 0, 0, 10, 1, 1, 1, 1),\n",
              " (254, 'Vol', 0, 0, 10, 1, 1, 1, 1),\n",
              " (255, 'Adipisci molest', 0, 0, 10, 1, 1, 1, 1),\n",
              " (256, 'Omni', 0, 0, 10, 1, 1, 1, 1),\n",
              " (257, 'Voluptatibus dolor', 0, 0, 10, 1, 1, 1, 1),\n",
              " (258, 'Quo', 0, 0, 10, 1, 1, 1, 1),\n",
              " (259, 'Atque aspernatur possi', 0, 0, 10, 1, 1, 1, 1),\n",
              " (260, 'Ullam c', 0, 0, 10, 1, 1, 1, 1),\n",
              " (261, 'Iusto quas voluptatibu', 0, 0, 10, 1, 1, 1, 1),\n",
              " (262, 'Optio qui sunt dolores, ab', 0, 0, 10, 1, 1, 1, 1),\n",
              " (263, 'Illum recusandae nulla re', 0, 0, 10, 1, 1, 1, 1),\n",
              " (264, 'Verita', 0, 0, 10, 1, 1, 1, 1),\n",
              " (265, 'Expedita quod blanditiis', 0, 0, 10, 1, 1, 1, 1),\n",
              " (266, 'Mag', 0, 0, 10, 1, 1, 1, 1),\n",
              " (267, 'Omnis quos aspernatur d', 0, 0, 10, 1, 1, 1, 1),\n",
              " (268, 'Sunt impedit co', 0, 0, 10, 1, 1, 1, 1),\n",
              " (269, 'Minima quam ea ad', 0, 0, 10, 1, 1, 1, 1),\n",
              " (270, 'Suscipit quidem e', 0, 0, 10, 1, 1, 1, 1),\n",
              " (271, 'Harum', 0, 0, 10, 1, 1, 1, 1),\n",
              " (272, 'Dolore laborum ips', 0, 0, 10, 1, 1, 1, 1),\n",
              " (273, 'Magni veniam earum corporis', 0, 0, 10, 1, 1, 1, 1),\n",
              " (274, 'Optio', 0, 0, 10, 1, 1, 1, 1),\n",
              " (275, 'Nam fugit vel.', 0, 0, 10, 1, 1, 1, 1),\n",
              " (276, 'Ut numquam quam eum, alias ius', 0, 0, 10, 1, 1, 1, 1),\n",
              " (277, 'Error amet tempore nulla', 0, 0, 10, 1, 1, 1, 1),\n",
              " (278, 'Deserunt a', 0, 0, 10, 1, 1, 1, 1),\n",
              " (279, 'Aperiam sit', 0, 0, 10, 1, 1, 1, 1),\n",
              " (280, 'Asperi', 0, 0, 10, 1, 1, 1, 1),\n",
              " (281, 'Similique aperiam earum expli', 0, 0, 10, 1, 1, 1, 1),\n",
              " (282, 'Iure h', 0, 0, 10, 1, 1, 1, 1),\n",
              " (283, 'At sint ducimus nostrum i', 0, 0, 10, 1, 1, 1, 1),\n",
              " (284, 'Reprehenderit temporib', 0, 0, 10, 1, 1, 1, 1),\n",
              " (285, 'Molestiae quaerat maxim', 0, 0, 10, 1, 1, 1, 1),\n",
              " (286, 'Maior', 0, 0, 10, 1, 1, 1, 1),\n",
              " (287, 'Unde natus ut ipsa cupi', 0, 0, 10, 1, 1, 1, 1),\n",
              " (288, 'Praesentium atque ear', 0, 0, 10, 1, 1, 1, 1),\n",
              " (289, 'Rem minima', 0, 0, 10, 1, 1, 1, 1),\n",
              " (290, 'Provident sed soluta, sed si', 0, 0, 10, 1, 1, 1, 1),\n",
              " (291, 'Natus quia veritatis', 0, 0, 10, 1, 1, 1, 1),\n",
              " (292, 'Vero a', 0, 0, 10, 1, 1, 1, 1),\n",
              " (293, 'Optio harum labori', 0, 0, 10, 1, 1, 1, 1),\n",
              " (294, 'Duci', 0, 0, 10, 1, 1, 1, 1),\n",
              " (295, 'Ipsa elige', 0, 0, 10, 1, 1, 1, 1),\n",
              " (296, 'Sunt blanditiis i', 0, 0, 10, 1, 1, 1, 1),\n",
              " (297, 'Doloremque', 0, 0, 10, 1, 1, 1, 1),\n",
              " (298, 'Autem ratione vitae quos, do', 0, 0, 10, 1, 1, 1, 1),\n",
              " (299, 'Voluptatibus aliquid', 0, 0, 10, 1, 1, 1, 1),\n",
              " (300, 'Quaerat sequi sit eius corpori', 0, 0, 10, 1, 1, 1, 1),\n",
              " (301, 'Libe', 0, 0, 10, 1, 1, 1, 1),\n",
              " (302, 'Aliquam n', 0, 0, 10, 1, 1, 1, 1)]"
            ]
          },
          "metadata": {
            "tags": []
          },
          "execution_count": 27
        }
      ]
    },
    {
      "cell_type": "code",
      "metadata": {
        "id": "YR9y7ePWdQGg",
        "colab_type": "code",
        "colab": {}
      },
      "source": [
        "pg_conn.commit()"
      ],
      "execution_count": 0,
      "outputs": []
    },
    {
      "cell_type": "code",
      "metadata": {
        "id": "YnXL-0sArW_z",
        "colab_type": "code",
        "colab": {}
      },
      "source": [
        "# A quick test that we did this correctly\n",
        "pg_curs.execute('SELECT * FROM charactercreator_character')\n",
        "pg_characters = pg_curs.fetchall()"
      ],
      "execution_count": 0,
      "outputs": []
    },
    {
      "cell_type": "code",
      "metadata": {
        "id": "gPVnCHhkradk",
        "colab_type": "code",
        "outputId": "799152c1-3446-4809-f342-1d1ff6144d86",
        "colab": {
          "base_uri": "https://localhost:8080/",
          "height": 34
        }
      },
      "source": [
        "characters[0]"
      ],
      "execution_count": 0,
      "outputs": [
        {
          "output_type": "execute_result",
          "data": {
            "text/plain": [
              "(1, 'Aliquid iste optio reiciendi', 0, 0, 10, 1, 1, 1, 1)"
            ]
          },
          "metadata": {
            "tags": []
          },
          "execution_count": 31
        }
      ]
    },
    {
      "cell_type": "code",
      "metadata": {
        "id": "Zm_yT9WCrfkj",
        "colab_type": "code",
        "outputId": "37586371-8bf6-47d5-c7d7-ffd7ab61ac81",
        "colab": {
          "base_uri": "https://localhost:8080/",
          "height": 34
        }
      },
      "source": [
        "pg_characters[0]"
      ],
      "execution_count": 0,
      "outputs": [
        {
          "output_type": "execute_result",
          "data": {
            "text/plain": [
              "(1, 'Aliquid iste optio reiciendi', 0, 0, 10, 1, 1, 1, 1)"
            ]
          },
          "metadata": {
            "tags": []
          },
          "execution_count": 32
        }
      ]
    },
    {
      "cell_type": "code",
      "metadata": {
        "id": "0cTupNy3rj4a",
        "colab_type": "code",
        "colab": {}
      },
      "source": [
        "for character, pg_character in zip(characters, pg_characters):\n",
        "  assert character == pg_character"
      ],
      "execution_count": 0,
      "outputs": []
    }
  ]
}
